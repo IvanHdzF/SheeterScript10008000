{
 "cells": [
  {
   "cell_type": "code",
   "execution_count": 134,
   "metadata": {},
   "outputs": [],
   "source": [
    "import re\n",
    "import easygui\n",
    "import os\n",
    "import subprocess\n",
    "from tkinter import *\n",
    "from tkinter import ttk\n",
    "\n",
    "bows=['prototypecrescent','rust', 'sacrificialbow', 'skywardharp', 'thestringless', 'thunderingpulse', 'theviridescenthunt', 'windblumeode', 'alleyhunter', 'amosbow', 'blackcliffwarbow', 'elegy', 'favoniuswarbow', 'hamayumi','mitternachtswaltz', 'mouunsmoon', 'polarstar']\n",
    "catalysts=['frostbearer', 'hakushinring', 'kagura', 'mappamare', 'memoryofdust', 'oathsworneye', 'eyeofperception', 'lostprayertothesacredwinds', 'prototypeamber','skywardatlas', 'solarpearl', 'ttds', 'thewidsith', 'wineandsong','blackcliffagate', 'dodocotales', 'favoniuscodex']\n",
    "claymores=[\"songofbrokenpines\",\"prototypearchaic\",\"rainslasher\",\"redhornstonethresher\",\"luxurioussealord\",\"skywardpride\",\"serpentspine\",\"snowtombedstarsilver\",\"theunforged\",\"whiteblind\",\"wolfsgravestone\",\"akuoumaru\",\"blackcliffslasher\",\"favoniusgreatsword\",\"katsuragikirinagamasa\"]\n",
    "polearms=[\"calamityqueller\",\"thecatch\",\"crescentpike\",\"deathmatch\",\"dragonsbane\",\"dragonspinespear\",\"favoniuslance\",\"engulfinglightning\",\"staffofhoma\",\"kitaincrossspear\",\"lithicspear\",\"primordialjadewingedspear\",\"prototypestarglitter\",\"skywardspine\",\"vortexvanquisher\",\"wavebreakersfin\",\"blackcliffpole\"]\n",
    "swords=[\"aquilafavonia\",\"theblacksword\",\"blackclifflongsword\",\"favoniussword\",\"festeringdesire\",\"theflute\",\"freedomsworn\",\"haran\",\"harbingerofdawn\",\"ironsting\",\"lionsroar\",\"lithicblade\",\"mistsplitterreforged\",\"jadecutter\",\"prototyperancour\",\"sacrificialsword\",\"skywardblade\",\"summitshaper\",\"thealleyflash\",\"amenomakageuchi\"]#Done\n",
    "refinements=[\"1\",\"2\",\"3\",\"4\",\"5\"]\n",
    "sands=[\"hp%=0.466\",\"atk%=0.466\",\"def%=0.466\",\"er=0.518\",\"em=186.5\"]\n",
    "goblets=[\"hp%=0.466\",\"atk%=0.466\",\"def%=0.466\",\"em=186.5\",\"anemo%=0.466\",\"cryo%=0.466\",\"electro%=0.466\",\"geo%=0.466\",\"hydro%=0.466\",\"pyro%=0.466\",\"phys%=0.466\"]\n",
    "circlets=[\"hp%=0.466\",\"atk%=0.466\",\"def%=0.466\",\"em=186.5\",\"cr=0.311\",\"cd=0.622\",\"heal=0.359\"]\n",
    "\n",
    "weapontype = easygui.enterbox(\"Please input the type of weapon to do the comparison with:\\n1 for bows\\n2 for catalysts\\n3 for claymores\\n4 for polearms\\n5 for swords\" ,\"Enter your weapon type (NUMBER ONLY)\")\n"
   ]
  },
  {
   "cell_type": "code",
   "execution_count": 3,
   "metadata": {},
   "outputs": [
    {
     "name": "stdout",
     "output_type": "stream",
     "text": [
      "D:\\Genshin sims\\weapon comparisons folder\\yaefishl\\fischl.txt\n"
     ]
    }
   ],
   "source": [
    "configf=easygui.fileopenbox(\"Please input a file as a base\", \"Writer\", filetypes= \"*.txt\", multiple=False)\n",
    "\n",
    "print(configf)\n",
    "gcsimpath=os.path.join(os.path.abspath(''))\n",
    "configpath=(os.path.dirname(configf))\n"
   ]
  },
  {
   "cell_type": "code",
   "execution_count": 4,
   "metadata": {},
   "outputs": [
    {
     "name": "stdout",
     "output_type": "stream",
     "text": [
      "fischl\n"
     ]
    }
   ],
   "source": [
    "character=(os.path.basename(configf)).replace(\".txt\",\"\")\n",
    "print(character)"
   ]
  },
  {
   "cell_type": "code",
   "execution_count": 109,
   "metadata": {},
   "outputs": [
    {
     "name": "stdout",
     "output_type": "stream",
     "text": [
      "['prototypecrescent', 'rust', 'sacrificialbow', 'skywardharp', 'thestringless', 'thunderingpulse', 'theviridescenthunt', 'windblumeode', 'alleyhunter', 'amosbow', 'blackcliffwarbow', 'elegy', 'favoniuswarbow', 'hamayumi', 'mitternachtswaltz', 'mouunsmoon', 'polarstar']\n"
     ]
    }
   ],
   "source": [
    "match weapontype:\n",
    "    case \"1\":\n",
    "        weapons=bows\n",
    "    case \"2\":\n",
    "        weapons=catalysts\n",
    "    case \"3\":\n",
    "        weapons=claymores\n",
    "    case \"4\":\n",
    "        weapons=polearms\n",
    "    case \"5\":\n",
    "        weapons=swords\n",
    "    case _:\n",
    "        print(\"Invalid weapontype, input ONLY the number please\")\n",
    "\n",
    "print(weapons)"
   ]
  },
  {
   "cell_type": "code",
   "execution_count": 177,
   "metadata": {},
   "outputs": [],
   "source": [
    "def writeconfig(weapons,refinements,sands,goblets,circlets):\n",
    "\n",
    "    my_file = open(configf)\n",
    "    string_list = my_file.readlines()\n",
    "    #Get file's content as a list\n",
    "\n",
    "    my_file.close()\n",
    "    #print(string_list)\n",
    "    list_contents = \"\".join(string_list)\n",
    "    #x=re.search(\"(?<=\"+character+\" add weapon)\", list_contents) #Nayde learning regex dont mind this\n",
    "    #print(x)\n",
    "\n",
    "\n",
    "\n",
    "    #we start the iterations here\n",
    "\n",
    "    for weapon in weapons:\n",
    "        for refinement in refinements:\n",
    "            for sand in sands:\n",
    "                for goblet in goblets:\n",
    "                    for circlet in circlets:\n",
    "\n",
    "                        newlist=re.sub(\"(\"+character+\" add weapon)(.*)\",\"\"+character+\" add weapon= \\\"\"+weapon+\"\\\" refine=\"+refinement+\" lvl=90/90;\", list_contents) #substitute the readed config with the new weapon\n",
    "                        finallist=re.sub(\"(\"+character+\" add stats hp=4780)(.*)\",\"\"+character+\" add stats hp=4780 atk=311 \"+sand+\" \"+goblet+\" \"+circlet+\";\", newlist) #substitute the readed config with the new weapon\n",
    "\n",
    "                        my_file = open(configpath+\"//_\"+weapon+\" R\"+refinement+\" \"+sand.split('=',1)[0]+\"-\"+goblet.split('=',1)[0]+\"-\"+circlet.split('=',1)[0]+\".txt\", \"w\")\n",
    "                        new_file_contents = \"\".join(string_list)\n",
    "                        #Convert `string_list` to a single string\n",
    "\n",
    "                        my_file.write(finallist)\n",
    "                        my_file.close()\n",
    "\n",
    "                        print(weapon,refinement,sand,goblet,circlet)\n",
    "\n"
   ]
  },
  {
   "cell_type": "code",
   "execution_count": 180,
   "metadata": {},
   "outputs": [
    {
     "name": "stdout",
     "output_type": "stream",
     "text": [
      "thestringless 1 atk%=0.466 electro%=0.466 cr=0.311\n",
      "thestringless 1 atk%=0.466 electro%=0.466 cd=0.622\n",
      "thestringless 3 atk%=0.466 electro%=0.466 cr=0.311\n",
      "thestringless 3 atk%=0.466 electro%=0.466 cd=0.622\n",
      "thestringless 5 atk%=0.466 electro%=0.466 cr=0.311\n",
      "thestringless 5 atk%=0.466 electro%=0.466 cd=0.622\n"
     ]
    }
   ],
   "source": [
    "main = Tk()\n",
    "main.title(\"Config Writer\")\n",
    "main.geometry(\"600x300+50+150\")\n",
    "\n",
    "#---------------------------------For weapon---------------------------------#\n",
    "frame = ttk.Frame(main, padding=(3, 3, 12, 12))\n",
    "frame.grid(column=0, row=0, sticky=(N, S, E, W))\n",
    "weaponlabel=ttk.Label(frame,text=\"Weapons\")\n",
    "weaponlabel.grid(column=0, row=0, sticky=(N, S, E, W))\n",
    "weaponslist = Listbox(frame, selectmode=MULTIPLE, width=20, height=10,exportselection=0)#List for weapon\n",
    "weaponslist.grid(column=0, row=1, columnspan=2)\n",
    "scrollbar1 = Scrollbar(frame,command=weaponslist.yview)#bind\n",
    "weaponslist.config(yscrollcommand = scrollbar1.set)#bind\n",
    "scrollbar1.grid(column=2, row=1,sticky=(N, S))\n",
    "\n",
    "for each_item in range(len(weapons)):  \n",
    "    weaponslist.insert(END,weapons[each_item])\n",
    "\n",
    "#---------------------------------For refinements---------------------------------#\n",
    "frame2 = ttk.Frame(main, padding=(3, 3, 12, 12))\n",
    "frame2.grid(column=2, row=0, sticky=(N, S, E, W))\n",
    "refinementlabel=ttk.Label(frame2,text=\"Refinements\")\n",
    "refinementlabel.grid(column=0, row=0, sticky=(N, S, E, W))\n",
    "selectedrefinements = []\n",
    "refinementslist = Listbox(frame2, selectmode=MULTIPLE, width=10, height=10,exportselection=0)#List for refinements\n",
    "refinementslist.grid(column=0, row=1, columnspan=1)\n",
    "for each_item in range(len(refinements)):  \n",
    "    refinementslist.insert(END,refinements[each_item])\n",
    "\n",
    "#---------------------------------For sands---------------------------------#\n",
    "frame3 = ttk.Frame(main, padding=(3, 3, 12, 12))\n",
    "frame3.grid(column=3, row=0, sticky=(N, S, E, W))\n",
    "sandslabel=ttk.Label(frame3,text=\"Sands\")\n",
    "sandslabel.grid(column=0, row=0, sticky=(N, S, E, W))\n",
    "sandslist = Listbox(frame3, selectmode=MULTIPLE, width=10, height=10,exportselection=0)#List for refinements\n",
    "sandslist.grid(column=0, row=1, columnspan=1)\n",
    "for each_item in range(len(sands)):  \n",
    "    sandslist.insert(END,sands[each_item].split('=',1)[0])\n",
    "\n",
    "\n",
    "\n",
    "#---------------------------------For goblets---------------------------------#\n",
    "frame4 = ttk.Frame(main, padding=(3, 3, 12, 12))\n",
    "frame4.grid(column=4, row=0, sticky=(N, S, E, W))\n",
    "gobletlabel=ttk.Label(frame4,text=\"Goblets\")\n",
    "gobletlabel.grid(column=0, row=0, sticky=(N, S, E, W))\n",
    "gobletlist = Listbox(frame4, selectmode=MULTIPLE, width=10, height=10,exportselection=0)#List for refinements\n",
    "gobletlist.grid(column=0, row=1, columnspan=1)\n",
    "scrollbar2 = Scrollbar(frame4,command=weaponslist.yview)#bind\n",
    "gobletlist.config(yscrollcommand = scrollbar2.set)#bind\n",
    "scrollbar2.grid(column=1, row=1,sticky=(N, S))\n",
    "for each_item in range(len(goblets)):  \n",
    "    gobletlist.insert(END,goblets[each_item].split('=',1)[0])\n",
    "\n",
    "\n",
    "\n",
    "\n",
    "#---------------------------------For circlets---------------------------------#\n",
    "frame5 = ttk.Frame(main, padding=(3, 3, 12, 12))\n",
    "frame5.grid(column=5, row=0, sticky=(N, S, E, W))\n",
    "circletlabel=ttk.Label(frame5,text=\"Circlets\")\n",
    "circletlabel.grid(column=0, row=0, sticky=(N, S, E, W))\n",
    "circletlist = Listbox(frame5, selectmode=MULTIPLE, width=10, height=10,exportselection=0)#List for refinements\n",
    "circletlist.grid(column=0, row=1, columnspan=1)\n",
    "for each_item in range(len(circlets)):  \n",
    "    circletlist.insert(END,circlets[each_item].split('=',1)[0])\n",
    "\n",
    "\n",
    "\n",
    "\n",
    "#---------------------------------GUI functions---------------------------------#\n",
    "def select_all():\n",
    "    weaponslist.select_set(0, END)\n",
    "\n",
    "def deselect_all():\n",
    "    weaponslist.selection_clear(0, END)\n",
    "\n",
    "def create():\n",
    "    selectedweapons = [weaponslist.get(i) for i in weaponslist.curselection()]\n",
    "    selectedrefinements=[refinementslist.get(i) for i in refinementslist.curselection()]\n",
    "    selectedsands=[sands[i] for i in sandslist.curselection()]\n",
    "    selectedgoblets=[goblets[i]  for i in gobletlist.curselection()]\n",
    "    selectedcirclets=[circlets[i]  for i in circletlist.curselection()]\n",
    "    # for val in reslist:\n",
    "    #     print(val)\n",
    "    if not selectedweapons or (not selectedrefinements)or (not selectedsands)or (not selectedgoblets)or (not selectedcirclets):\n",
    "        status['text']=\"At least 1 element empty\"\n",
    "    else:\n",
    "        writeconfig(selectedweapons,selectedrefinements,selectedsands,selectedgoblets,selectedcirclets)\n",
    "        numberoffiles=str(len(selectedweapons)*len(selectedrefinements)*len(selectedsands)*len(selectedgoblets)*len(selectedcirclets))\n",
    "        status['text']=\"Wrote: \"+numberoffiles+\" file(s)\"\n",
    "\n",
    "#---------------------------------GUI buttons---------------------------------#\n",
    "btn = ttk.Button(frame, text=\"Select all\", command=select_all)\n",
    "btn.grid(column=0, row=2)\n",
    "\n",
    "btn1 = ttk.Button(frame, text=\"Deselect all\", command=deselect_all)\n",
    "btn1.grid(column=0, row=3)\n",
    "\n",
    "btn2 = ttk.Button(frame5, text=\"Create\", command=create)\n",
    "btn2.grid(column=0, row=2, pady=60)\n",
    "\n",
    "status=ttk.Label(frame,text=\"Status\")\n",
    "status.grid(column=0, row=4, sticky=(N, S, E, W))\n",
    "\n",
    "\n",
    "main.mainloop()"
   ]
  }
 ],
 "metadata": {
  "interpreter": {
   "hash": "3bd13bc16400e16874b7ce28af58a129343287e94248a182c1f06fbb6b76ef8e"
  },
  "kernelspec": {
   "display_name": "Python 3.10.2 64-bit",
   "language": "python",
   "name": "python3"
  },
  "language_info": {
   "codemirror_mode": {
    "name": "ipython",
    "version": 3
   },
   "file_extension": ".py",
   "mimetype": "text/x-python",
   "name": "python",
   "nbconvert_exporter": "python",
   "pygments_lexer": "ipython3",
   "version": "3.10.2"
  },
  "orig_nbformat": 4
 },
 "nbformat": 4,
 "nbformat_minor": 2
}

{
 "cells": [
  {
   "cell_type": "code",
   "execution_count": 32,
   "metadata": {},
   "outputs": [],
   "source": [
    "import re\n",
    "import easygui\n",
    "import os\n",
    "import subprocess\n",
    "bows=['prototypecrescent','rust', 'sacrificialbow', 'skywardharp', 'thestringless', 'thunderingpulse', 'theviridescenthunt', 'windblumeode', 'alleyhunter', 'amosbow', 'blackcliffwarbow', 'elegy', 'favoniuswarbow', 'hamayumi','mitternachtswaltz', 'mouunsmoon', 'polarstar']\n",
    "catalysts=['frostbearer', 'hakushinring', 'kagura', 'mappamare', 'memoryofdust', 'oathsworneye', 'eyeofperception', 'lostprayertothesacredwinds', 'prototypeamber','skywardatlas', 'solarpearl', 'ttds', 'thewidsith', 'wineandsong','blackcliffagate', 'dodocotales', 'favoniuscodex']\n",
    "claymores=[\"songofbrokenpines\",\"prototypearchaic\",\"rainslasher\",\"redhornstonethresher\",\"luxurioussealord\",\"skywardpride\",\"serpentspine\",\"snowtombedstarsilver\",\"theunforged\",\"whiteblind\",\"wolfsgravestone\",\"akuoumaru\",\"blackcliffslasher\",\"favoniusgreatsword\",\"katsuragikirinagamasa\"]\n",
    "polearms=[\"calamityqueller\",\"thecatch\",\"crescentpike\",\"deathmatch\",\"dragonsbane\",\"dragonspinespear\",\"favoniuslance\",\"engulfinglightning\",\"staffofhoma\",\"kitaincrossspear\",\"lithicspear\",\"primordialjadewingedspear\",\"prototypestarglitter\",\"skywardspine\",\"vortexvanquisher\",\"wavebreakersfin\",\"blackcliffpole\"]\n",
    "swords=[\"aquilafavonia\",\"theblacksword\",\"blackclifflongsword\",\"favoniussword\",\"festeringdesire\",\"theflute\",\"freedomsworn\",\"haran\",\"harbingerofdawn\",\"ironsting\",\"lionsroar\",\"lithicblade\",\"mistsplitterreforged\",\"jadecutter\",\"prototyperancour\",\"sacrificialsword\",\"skywardblade\",\"summitshaper\",\"thealleyflash\",\"amenomakageuchi\"]#Done\n",
    "\n",
    "weapontype = \"1\"\n"
   ]
  },
  {
   "cell_type": "code",
   "execution_count": 33,
   "metadata": {},
   "outputs": [
    {
     "name": "stdout",
     "output_type": "stream",
     "text": [
      "D:\\Genshin sims\\weapon comparisons folder\\yaefishl\\fischl.txt\n"
     ]
    }
   ],
   "source": [
    "configf=easygui.fileopenbox(\"Please input a file as a base\", \"Writer\", filetypes= \"*.txt\", multiple=False)\n",
    "\n",
    "print(configf)\n",
    "gcsimpath=os.path.join(os.path.abspath(''))\n",
    "configpath=(os.path.dirname(configf))\n"
   ]
  },
  {
   "cell_type": "code",
   "execution_count": 34,
   "metadata": {},
   "outputs": [
    {
     "name": "stdout",
     "output_type": "stream",
     "text": [
      "fischl\n"
     ]
    }
   ],
   "source": [
    "character=(os.path.basename(configf)).replace(\".txt\",\"\")\n",
    "print(character)"
   ]
  },
  {
   "cell_type": "code",
   "execution_count": 35,
   "metadata": {},
   "outputs": [
    {
     "name": "stdout",
     "output_type": "stream",
     "text": [
      "['prototypecrescent', 'rust', 'sacrificialbow', 'skywardharp', 'thestringless', 'thunderingpulse', 'viridescentvenerer', 'windblumeode', 'alleyhunter', 'amosbow', 'blackcliffwarbow', 'elegy', 'favoniuswarbow', 'hamayumi', 'mitternachtswaltz', 'mouunsmoon', 'polarstar']\n"
     ]
    }
   ],
   "source": [
    "match weapontype:\n",
    "    case \"1\":\n",
    "        weapons=bows\n",
    "    case \"2\":\n",
    "        weapons=catalysts\n",
    "    case \"3\":\n",
    "        weapons=claymores\n",
    "    case \"4\":\n",
    "        weapons=polearms\n",
    "    case \"5\":\n",
    "        weapons=swords\n",
    "    case _:\n",
    "        print(\"Invalid weapontype, input ONLY the number please\")\n",
    "\n",
    "print(weapons)"
   ]
  },
  {
   "cell_type": "code",
   "execution_count": 36,
   "metadata": {},
   "outputs": [
    {
     "name": "stdout",
     "output_type": "stream",
     "text": [
      "prototypecrescent\n",
      "rust\n",
      "sacrificialbow\n",
      "skywardharp\n",
      "thestringless\n",
      "thunderingpulse\n",
      "viridescentvenerer\n",
      "windblumeode\n",
      "alleyhunter\n",
      "amosbow\n",
      "blackcliffwarbow\n",
      "elegy\n",
      "favoniuswarbow\n",
      "hamayumi\n",
      "mitternachtswaltz\n",
      "mouunsmoon\n",
      "polarstar\n"
     ]
    }
   ],
   "source": [
    "my_file = open(configf)\n",
    "string_list = my_file.readlines()\n",
    "#Get file's content as a list\n",
    "\n",
    "my_file.close()\n",
    "#print(string_list)\n",
    "list_contents = \"\".join(string_list)\n",
    "#x=re.search(\"(?<=\"+character+\" add weapon)\", list_contents) #Nayde learning regex dont mind this\n",
    "#print(x)\n",
    "\n",
    "\n",
    "\n",
    "#we start the iterations here\n",
    "\n",
    "for weapon in weapons:\n",
    "    newlist=re.sub(\"(\"+character+\" add weapon)(.*)\",\"\"+character+\" add weapon= \\\"\"+weapon+\"\\\" refine=1 lvl=90/90;\", list_contents) #substitute the readed config with the new weapon\n",
    "    #print(newlist)\n",
    "\n",
    "    my_file = open(configpath+\"//\"+weapon+\".txt\", \"w\")\n",
    "    new_file_contents = \"\".join(string_list)\n",
    "    #Convert `string_list` to a single string\n",
    "\n",
    "    my_file.write(newlist)\n",
    "    my_file.close()\n",
    "\n",
    "    print(weapon)\n",
    "\n",
    "\n"
   ]
  }
 ],
 "metadata": {
  "interpreter": {
   "hash": "3bd13bc16400e16874b7ce28af58a129343287e94248a182c1f06fbb6b76ef8e"
  },
  "kernelspec": {
   "display_name": "Python 3.10.2 64-bit",
   "language": "python",
   "name": "python3"
  },
  "language_info": {
   "codemirror_mode": {
    "name": "ipython",
    "version": 3
   },
   "file_extension": ".py",
   "mimetype": "text/x-python",
   "name": "python",
   "nbconvert_exporter": "python",
   "pygments_lexer": "ipython3",
   "version": "3.10.2"
  },
  "orig_nbformat": 4
 },
 "nbformat": 4,
 "nbformat_minor": 2
}
